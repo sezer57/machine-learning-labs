{
 "cells": [
  {
   "cell_type": "code",
   "execution_count": 1,
   "id": "5e57876e",
   "metadata": {},
   "outputs": [],
   "source": [
    "#variables\n",
    "\n",
    "varInt=10 #integer \n",
    "ders=\"math\" #string\n",
    "derece=3.3 #doulbe"
   ]
  },
  {
   "cell_type": "code",
   "execution_count": 5,
   "id": "b1142f74",
   "metadata": {},
   "outputs": [
    {
     "name": "stdout",
     "output_type": "stream",
     "text": [
      "1\n",
      "[1, 3, 5, 9]\n"
     ]
    }
   ],
   "source": [
    "#list\n",
    "\n",
    "list_test=[1,3,5,9]\n",
    "type(list_test)#listenin type kendisidir\n",
    "\n",
    "list_string=[\"a\",\"b\",\"c\",\"d\"]#listede string değerlerde alabilir\n",
    "\n",
    "print(list_test[0])#listenin 0. indisini yazdırır\n",
    "\n",
    "list_test.append(7)#listenin sonuna ekleme yapar\n",
    "\n",
    "list_test.remove(7)#listenin elemanı çıkarır\n",
    "\n",
    "print(list_test[0:4])#listenin 0 ve 4 indislerini ve arasını yazdırır\n",
    "\n",
    "list_test.reverse()#listeyi tersine çevirir\n",
    "\n",
    "list_test.sort()#listeyi sıralar\n",
    "\n",
    "sum(list_test) #listeyi toplar\n",
    "min(list_test) #listenin minimun değerni yazdırır\n"
   ]
  },
  {
   "cell_type": "code",
   "execution_count": 12,
   "id": "6950eeb4",
   "metadata": {},
   "outputs": [
    {
     "name": "stdout",
     "output_type": "stream",
     "text": [
      "1\n",
      "2\n",
      "3\n",
      "4\n",
      "5\n",
      "6\n",
      "7\n",
      "8\n",
      "9\n",
      "t\n",
      "e\n",
      "s\n",
      "t\n",
      "t\n",
      "e\n",
      "s\n",
      "t\n",
      "t\n",
      "e\n",
      "s\n",
      "t\n"
     ]
    }
   ],
   "source": [
    "for a in range(1,10) :\n",
    "    print(a) # 1 ile 9 arasını yazıdır\n",
    "    \n",
    "for b in \"testtesttest\":\n",
    "    \n",
    "    print(b)\n",
    "    \n"
   ]
  },
  {
   "cell_type": "code",
   "execution_count": 16,
   "id": "1dd07ad5",
   "metadata": {},
   "outputs": [
    {
     "name": "stdout",
     "output_type": "stream",
     "text": [
      "b büyüktür a'dan\n"
     ]
    }
   ],
   "source": [
    "#conditionals\n",
    "#if else durumları\n",
    "\n",
    "1 == 1 #True\n",
    "\n",
    "1 == 2 #False\n",
    "\n",
    "1 != 1 #False\n",
    "\n",
    "True == True #True\n",
    "\n",
    "True == False #False\n",
    "a=1\n",
    "b=5\n",
    "if ( a >b ):\n",
    "    print(\"a büyüktür b'den\")\n",
    "else:\n",
    "    print(\"b büyüktür a'dan\")"
   ]
  },
  {
   "cell_type": "code",
   "execution_count": 24,
   "id": "372050a1",
   "metadata": {},
   "outputs": [
    {
     "name": "stdout",
     "output_type": "stream",
     "text": [
      "var değeri 3 listenin içindedir.\n"
     ]
    }
   ],
   "source": [
    "test =[1,2,3,4,5]\n",
    "\n",
    "var = 3\n",
    "\n",
    "if var in test:\n",
    "    \n",
    "    print(\"var değeri \"+ format(var)+\" listenin içindedir.\")\n",
    "    \n",
    "else:\n",
    "    print(\"var değeri {} listenin içinde değildir.\".format(var))"
   ]
  },
  {
   "cell_type": "code",
   "execution_count": 30,
   "id": "4cc3084c",
   "metadata": {},
   "outputs": [
    {
     "name": "stdout",
     "output_type": "stream",
     "text": [
      "10\n",
      "9\n",
      "8\n",
      "7\n",
      "6\n",
      "5\n",
      "4\n",
      "3\n",
      "2\n",
      "1\n"
     ]
    }
   ],
   "source": [
    "i=10 \n",
    "while(i>0):  # i 0 dan küçük oluncaya kadar bütün değerleri yazdırır\n",
    "    print(i)\n",
    "    i = i-1"
   ]
  },
  {
   "cell_type": "code",
   "execution_count": 35,
   "id": "2026d1ce",
   "metadata": {},
   "outputs": [
    {
     "name": "stdout",
     "output_type": "stream",
     "text": [
      "12.56\n",
      "12.56\n"
     ]
    }
   ],
   "source": [
    "def cember_cevre(r): #cemberin ceversini hesaplayan fonksiyon\n",
    "    pi=3.14\n",
    "    return r*2*pi\n",
    "print(cember_cevre(2))\n",
    "\n",
    "cevre = lambda r:r*2*3.14 #cemberin cevresini lambda ile hesaplama\n",
    "print(cevre(2))"
   ]
  },
  {
   "cell_type": "code",
   "execution_count": null,
   "id": "b848a075",
   "metadata": {},
   "outputs": [],
   "source": [
    "#dictionary\n",
    "\n",
    "dictionary = {\"yas\":21, \"deneyim\":1}\n",
    "\n",
    "type(dictionary) #print dict type\n",
    "\n",
    "dictionary.keys() #dictionary in kılavuzlarını verir\n",
    "\n",
    "dic[\"yas\"] # yaşın verisini verir"
   ]
  }
 ],
 "metadata": {
  "kernelspec": {
   "display_name": "Python 3 (ipykernel)",
   "language": "python",
   "name": "python3"
  },
  "language_info": {
   "codemirror_mode": {
    "name": "ipython",
    "version": 3
   },
   "file_extension": ".py",
   "mimetype": "text/x-python",
   "name": "python",
   "nbconvert_exporter": "python",
   "pygments_lexer": "ipython3",
   "version": "3.9.12"
  }
 },
 "nbformat": 4,
 "nbformat_minor": 5
}
