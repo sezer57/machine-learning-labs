{
 "cells": [
  {
   "cell_type": "code",
   "execution_count": 1,
   "id": "7076e812",
   "metadata": {},
   "outputs": [],
   "source": [
    "import numpy as np"
   ]
  },
  {
   "cell_type": "code",
   "execution_count": 2,
   "id": "7d2e509c",
   "metadata": {},
   "outputs": [
    {
     "name": "stdout",
     "output_type": "stream",
     "text": [
      "[1 2 3]\n"
     ]
    }
   ],
   "source": [
    "t_array = np.array([1,2,3])\n",
    "print(t_array)"
   ]
  },
  {
   "cell_type": "code",
   "execution_count": 4,
   "id": "e5b9bb89",
   "metadata": {},
   "outputs": [
    {
     "name": "stdout",
     "output_type": "stream",
     "text": [
      "(3,)\n"
     ]
    }
   ],
   "source": [
    "print(t_array.shape) #arrayin shape i"
   ]
  },
  {
   "cell_type": "code",
   "execution_count": 7,
   "id": "254f6578",
   "metadata": {},
   "outputs": [
    {
     "name": "stdout",
     "output_type": "stream",
     "text": [
      "[[ 1  2  3  4  5]\n",
      " [ 6  7  8  9 10]\n",
      " [11 12 13 14 15]]\n"
     ]
    }
   ],
   "source": [
    "array2= np.array([1,2,3,4,5,6,7,8,9,10])\n",
    "a = array2.reshape(3,5) #vektör 3 satır 5 sütunluk matrise döndürüldü\n",
    "print(a)"
   ]
  },
  {
   "cell_type": "code",
   "execution_count": 8,
   "id": "e9232184",
   "metadata": {},
   "outputs": [
    {
     "name": "stdout",
     "output_type": "stream",
     "text": [
      "shape:  (3, 5)\n",
      "dimension:  2\n",
      "data type:  int32\n",
      "size:  15\n",
      "type <class 'numpy.ndarray'>\n"
     ]
    }
   ],
   "source": [
    "print(\"shape: \",a.shape) #arrayin shapi \n",
    "\n",
    "print(\"dimension: \",a.ndim) #matrisin boyutu yazdırır\n",
    "                           \n",
    "\n",
    "print(\"data type: \",a.dtype.name) #data type yazdırır\n",
    "\n",
    "print(\"size: \",a.size) #reshape'ten önceki boyutu yazdırır\n",
    "                       \n",
    "print(\"type\",type(a))  #type "
   ]
  },
  {
   "cell_type": "code",
   "execution_count": 9,
   "id": "fbf92da6",
   "metadata": {},
   "outputs": [],
   "source": [
    "array3= np.array([[1,2,3],[4,5,6],[7,8,9]])#reshape yapmadan da boyut değişir"
   ]
  },
  {
   "cell_type": "code",
   "execution_count": 10,
   "id": "49cbaeda",
   "metadata": {},
   "outputs": [
    {
     "name": "stdout",
     "output_type": "stream",
     "text": [
      "[[1 2 3]\n",
      " [4 5 6]\n",
      " [7 8 9]]\n"
     ]
    }
   ],
   "source": [
    "print(array3)"
   ]
  },
  {
   "cell_type": "code",
   "execution_count": 17,
   "id": "ad293fb4",
   "metadata": {},
   "outputs": [
    {
     "name": "stdout",
     "output_type": "stream",
     "text": [
      "[[5. 0. 0. 0.]\n",
      " [0. 0. 0. 0.]\n",
      " [0. 0. 0. 0.]]\n"
     ]
    }
   ],
   "source": [
    "sifir= np.zeros((3,4))\n",
    "sifir[0,0]=5\n",
    "print(sifir)"
   ]
  },
  {
   "cell_type": "code",
   "execution_count": 18,
   "id": "c53735e7",
   "metadata": {},
   "outputs": [
    {
     "data": {
      "text/plain": [
       "array([[1., 1., 1., 1., 1.],\n",
       "       [1., 1., 1., 1., 1.]])"
      ]
     },
     "execution_count": 18,
     "metadata": {},
     "output_type": "execute_result"
    }
   ],
   "source": [
    "np.ones((2,5)) #1'lerden oluşan 2*5'lük bir matris yaratır."
   ]
  },
  {
   "cell_type": "code",
   "execution_count": 19,
   "id": "8c5a1b1a",
   "metadata": {},
   "outputs": [
    {
     "data": {
      "text/plain": [
       "array([ 0.        ,  1.11111111,  2.22222222,  3.33333333,  4.44444444,\n",
       "        5.55555556,  6.66666667,  7.77777778,  8.88888889, 10.        ])"
      ]
     },
     "execution_count": 19,
     "metadata": {},
     "output_type": "execute_result"
    }
   ],
   "source": [
    "np.linspace(0,10,10) #0 ile 10 arasında 10 tane sayı yazdırılır."
   ]
  },
  {
   "cell_type": "code",
   "execution_count": 20,
   "id": "203b0647",
   "metadata": {},
   "outputs": [
    {
     "name": "stdout",
     "output_type": "stream",
     "text": [
      "[5 7 9]\n",
      "[-3 -3 -3]\n",
      "[1 4 9]\n"
     ]
    }
   ],
   "source": [
    "#toplama çıkarma bölme çarpma\n",
    "a= np.array([1,2,3])\n",
    "b= np.array([4,5,6])\n",
    "\n",
    "print(a+b) \n",
    "print(a-b) \n",
    "print(a**2)"
   ]
  },
  {
   "cell_type": "code",
   "execution_count": 23,
   "id": "58ffeb8b",
   "metadata": {},
   "outputs": [
    {
     "name": "stdout",
     "output_type": "stream",
     "text": [
      "[1, 2, 3, 4, 5, 6]\n",
      "[7 8]\n"
     ]
    }
   ],
   "source": [
    "liste = [1,2,3,4,5,6]\n",
    "\n",
    "array = np.array([7,8])\n",
    "#array tanımlamak için array'in içine liste yazılır.\n",
    "print(liste)\n",
    "print(array)"
   ]
  },
  {
   "cell_type": "code",
   "execution_count": 25,
   "id": "58433cb0",
   "metadata": {},
   "outputs": [
    {
     "name": "stdout",
     "output_type": "stream",
     "text": [
      "[1 2 3 4 5 6]\n"
     ]
    }
   ],
   "source": [
    "array = np.array(liste) #listeden araye geçme\n",
    "\n",
    "print(array)"
   ]
  },
  {
   "cell_type": "code",
   "execution_count": 26,
   "id": "def58316",
   "metadata": {},
   "outputs": [
    {
     "name": "stdout",
     "output_type": "stream",
     "text": [
      "[1, 2, 3, 4, 5, 6]\n"
     ]
    }
   ],
   "source": [
    "liste2 = list(array) #arrayden listeye geçilir.\n",
    "print(liste2)"
   ]
  },
  {
   "cell_type": "code",
   "execution_count": 28,
   "id": "ce681fea",
   "metadata": {},
   "outputs": [
    {
     "name": "stdout",
     "output_type": "stream",
     "text": [
      "[1 2 3]\n",
      "[1 2 1] [1 2 1] [1 2 1]\n"
     ]
    }
   ],
   "source": [
    "a = np.array([1,2,3])\n",
    "print(a)\n",
    "b=a\n",
    "\n",
    "c=a\n",
    "\n",
    "b[2]=1\n",
    "# b nin 2. indisi değişince hepsinin ki değişir\n",
    "print(a,b,c)"
   ]
  },
  {
   "cell_type": "code",
   "execution_count": 30,
   "id": "b66c0934",
   "metadata": {},
   "outputs": [
    {
     "name": "stdout",
     "output_type": "stream",
     "text": [
      "[1 2 3 4 5 6 7]\n"
     ]
    }
   ],
   "source": [
    "d = a.copy() # bunda yeni alan tahsis edilir değişince diğerleri değişmez\n",
    "a= np.array([1,2,3,4,5,6,7])\n",
    "print(a)"
   ]
  },
  {
   "cell_type": "code",
   "execution_count": 32,
   "id": "3f859240",
   "metadata": {},
   "outputs": [
    {
     "name": "stdout",
     "output_type": "stream",
     "text": [
      "1\n",
      "[1 2 3 4]\n",
      "[7 6 5 4 3 2 1]\n"
     ]
    }
   ],
   "source": [
    "print(a[0]) #arraydeki 1 sayısını verir\n",
    "print(a[0:4]) #ilk 4 indeksi yazdırır\n",
    "reverse_array = a[::-1] #array i ters çevirir\n",
    "print(reverse_array)"
   ]
  },
  {
   "cell_type": "code",
   "execution_count": 38,
   "id": "594e2779",
   "metadata": {},
   "outputs": [
    {
     "name": "stdout",
     "output_type": "stream",
     "text": [
      "6\n",
      "[1 6]\n",
      "[1 2 3 4 5]\n",
      "[7 8]\n"
     ]
    }
   ],
   "source": [
    "b = np.array([[1,2,3,4,5],[6,7,8,9,10]]) \n",
    "print(b[1,0]) #1.satır 0.sütun verir\n",
    "print(b[:,0]) #satırların hepsini ve 0. sütunu verir\n",
    "print(b[0,:]) #2.satırdaki elemanların tamamını verir.\n",
    "print(b[1,1:3]) #2.satır 2. 3.  sütunları verir."
   ]
  },
  {
   "cell_type": "code",
   "execution_count": 40,
   "id": "a48d71ed",
   "metadata": {},
   "outputs": [
    {
     "name": "stdout",
     "output_type": "stream",
     "text": [
      "[[ 1  2  3  4]\n",
      " [ 5  6  7  8]\n",
      " [ 9 10 11 12]]\n"
     ]
    }
   ],
   "source": [
    "array = np.array([[1,2,3],[4,5,6],[7,8,9],[10,11,12]]) #3*3'lük array oluşturuldu\n",
    "a = array.ravel() #ravel methoduyla tek boyutlu hale getirilir.\n",
    "array2 = a.reshape(3,4) #tekrardan 3*3'lük array haline getirildi.\n",
    "print(array2)"
   ]
  },
  {
   "cell_type": "code",
   "execution_count": 41,
   "id": "38f01035",
   "metadata": {},
   "outputs": [
    {
     "data": {
      "text/plain": [
       "(2, 3, 4)"
      ]
     },
     "execution_count": 41,
     "metadata": {},
     "output_type": "execute_result"
    }
   ],
   "source": [
    "#pandas\n",
    "t = (1,2,3,4,5)\n",
    "\n",
    "t[1:4]"
   ]
  },
  {
   "cell_type": "code",
   "execution_count": 42,
   "id": "83e7973e",
   "metadata": {},
   "outputs": [],
   "source": [
    "#importing the Pandas library.\n",
    "\n",
    "import pandas as pd"
   ]
  },
  {
   "cell_type": "code",
   "execution_count": 43,
   "id": "50e0d1e0",
   "metadata": {},
   "outputs": [
    {
     "name": "stdout",
     "output_type": "stream",
     "text": [
      "     name   age   note\n",
      "0    tasd  67.0   45.0\n",
      "1    reas   6.0  756.0\n",
      "2   rasim  67.0  657.0\n",
      "3     ali  45.0  242.0\n",
      "4  mehmet   NaN    NaN\n",
      "5     can  14.0   12.0\n"
     ]
    }
   ],
   "source": [
    "dictionary = {\"name\":[\"tasd\",\"reas\",\"rasim\",\"ali\",\"mehmet\",\"can\"],\n",
    "             \"age\":[67,6,67,45,None,14],\n",
    "             \"note\":[45,756,657,242,None,12]}\n",
    "\n",
    "dataframe1 = pd.DataFrame(dictionary) \n",
    "print(dataframe1)"
   ]
  },
  {
   "cell_type": "code",
   "execution_count": 44,
   "id": "c684e734",
   "metadata": {},
   "outputs": [
    {
     "name": "stdout",
     "output_type": "stream",
     "text": [
      "     name   age   note\n",
      "0    tasd  67.0   45.0\n",
      "1    reas   6.0  756.0\n",
      "2   rasim  67.0  657.0\n",
      "3     ali  45.0  242.0\n",
      "4  mehmet   NaN    NaN\n"
     ]
    }
   ],
   "source": [
    "head = dataframe1.head() \n",
    "print(head)\n",
    "# datanın içeriğine kısaca bakmak için"
   ]
  },
  {
   "cell_type": "code",
   "execution_count": 45,
   "id": "8e27d9de",
   "metadata": {},
   "outputs": [
    {
     "name": "stdout",
     "output_type": "stream",
     "text": [
      "     name   age   note\n",
      "1    reas   6.0  756.0\n",
      "2   rasim  67.0  657.0\n",
      "3     ali  45.0  242.0\n",
      "4  mehmet   NaN    NaN\n",
      "5     can  14.0   12.0\n"
     ]
    }
   ],
   "source": [
    "tail = dataframe1.tail()\n",
    "print(tail)\n",
    "#sondan 5 içeripi verir"
   ]
  },
  {
   "cell_type": "code",
   "execution_count": 46,
   "id": "4c22d407",
   "metadata": {},
   "outputs": [
    {
     "name": "stdout",
     "output_type": "stream",
     "text": [
      "Index(['name', 'age', 'note'], dtype='object')\n"
     ]
    }
   ],
   "source": [
    "print(dataframe1.columns) # sutunlarin isimlerini verir"
   ]
  },
  {
   "cell_type": "code",
   "execution_count": 47,
   "id": "e759907c",
   "metadata": {},
   "outputs": [
    {
     "name": "stdout",
     "output_type": "stream",
     "text": [
      "<class 'pandas.core.frame.DataFrame'>\n",
      "RangeIndex: 6 entries, 0 to 5\n",
      "Data columns (total 3 columns):\n",
      " #   Column  Non-Null Count  Dtype  \n",
      "---  ------  --------------  -----  \n",
      " 0   name    6 non-null      object \n",
      " 1   age     5 non-null      float64\n",
      " 2   note    5 non-null      float64\n",
      "dtypes: float64(2), object(1)\n",
      "memory usage: 272.0+ bytes\n",
      "None\n"
     ]
    }
   ],
   "source": [
    "print(dataframe1.info()) #dataframe hakkında bilgi verir"
   ]
  },
  {
   "cell_type": "code",
   "execution_count": 48,
   "id": "7ad42297",
   "metadata": {},
   "outputs": [
    {
     "name": "stdout",
     "output_type": "stream",
     "text": [
      "0      tasd\n",
      "1      reas\n",
      "2     rasim\n",
      "3       ali\n",
      "4    mehmet\n",
      "5       can\n",
      "Name: name, dtype: object\n"
     ]
    }
   ],
   "source": [
    "print(dataframe1[\"name\"])  #isism yazdırır"
   ]
  },
  {
   "cell_type": "code",
   "execution_count": 49,
   "id": "da7e6404",
   "metadata": {},
   "outputs": [
    {
     "name": "stdout",
     "output_type": "stream",
     "text": [
      "0    67.0\n",
      "1     6.0\n",
      "2    67.0\n",
      "3    45.0\n",
      "4     NaN\n",
      "5    14.0\n",
      "Name: age, dtype: float64\n"
     ]
    }
   ],
   "source": [
    "print(dataframe1.loc[:, \"age\"])   #yas yazdırır"
   ]
  },
  {
   "cell_type": "code",
   "execution_count": 50,
   "id": "4cda8344",
   "metadata": {},
   "outputs": [],
   "source": [
    "dataframe1[\"yeni_future\"] = [1,2,3,4,5,6] #yeni özellik ekler"
   ]
  },
  {
   "cell_type": "code",
   "execution_count": 51,
   "id": "a897c748",
   "metadata": {},
   "outputs": [
    {
     "name": "stdout",
     "output_type": "stream",
     "text": [
      "0    1\n",
      "1    2\n",
      "2    3\n",
      "3    4\n",
      "4    5\n",
      "5    6\n",
      "Name: yeni_future, dtype: int64\n"
     ]
    }
   ],
   "source": [
    "print(dataframe1.yeni_future) "
   ]
  },
  {
   "cell_type": "code",
   "execution_count": 52,
   "id": "729af9ff",
   "metadata": {},
   "outputs": [
    {
     "name": "stdout",
     "output_type": "stream",
     "text": [
      "    age   bool\n",
      "0  67.0   True\n",
      "1   6.0  False\n",
      "2  67.0   True\n",
      "3  45.0   True\n",
      "4   NaN  False\n",
      "5  14.0  False\n"
     ]
    }
   ],
   "source": [
    "filtre1 = dataframe1.age>20                          #yaşı 20'dan büyük olanlar filtrelendi\n",
    "dataframe1[\"bool\"]= filtre1\n",
    "print(dataframe1.loc[:,[\"age\",\"bool\"]])"
   ]
  },
  {
   "cell_type": "code",
   "execution_count": 53,
   "id": "44013917",
   "metadata": {},
   "outputs": [
    {
     "name": "stdout",
     "output_type": "stream",
     "text": [
      "    name   age   note  yeni_future  bool\n",
      "0   tasd  67.0   45.0            1  True\n",
      "2  rasim  67.0  657.0            3  True\n",
      "3    ali  45.0  242.0            4  True\n"
     ]
    }
   ],
   "source": [
    "filtrelenmis_data= dataframe1[filtre1] #dataframe'i filtreleme sadece koşulu sağlayanlar yazdırılır\n",
    "print(filtrelenmis_data)\n"
   ]
  },
  {
   "cell_type": "code",
   "execution_count": 54,
   "id": "615cdb74",
   "metadata": {},
   "outputs": [
    {
     "data": {
      "text/html": [
       "<div>\n",
       "<style scoped>\n",
       "    .dataframe tbody tr th:only-of-type {\n",
       "        vertical-align: middle;\n",
       "    }\n",
       "\n",
       "    .dataframe tbody tr th {\n",
       "        vertical-align: top;\n",
       "    }\n",
       "\n",
       "    .dataframe thead th {\n",
       "        text-align: right;\n",
       "    }\n",
       "</style>\n",
       "<table border=\"1\" class=\"dataframe\">\n",
       "  <thead>\n",
       "    <tr style=\"text-align: right;\">\n",
       "      <th></th>\n",
       "      <th>name</th>\n",
       "      <th>age</th>\n",
       "      <th>note</th>\n",
       "      <th>yeni_future</th>\n",
       "      <th>bool</th>\n",
       "    </tr>\n",
       "  </thead>\n",
       "  <tbody>\n",
       "    <tr>\n",
       "      <th>0</th>\n",
       "      <td>tasd</td>\n",
       "      <td>67.0</td>\n",
       "      <td>45.0</td>\n",
       "      <td>1</td>\n",
       "      <td>True</td>\n",
       "    </tr>\n",
       "    <tr>\n",
       "      <th>2</th>\n",
       "      <td>rasim</td>\n",
       "      <td>67.0</td>\n",
       "      <td>657.0</td>\n",
       "      <td>3</td>\n",
       "      <td>True</td>\n",
       "    </tr>\n",
       "    <tr>\n",
       "      <th>3</th>\n",
       "      <td>ali</td>\n",
       "      <td>45.0</td>\n",
       "      <td>242.0</td>\n",
       "      <td>4</td>\n",
       "      <td>True</td>\n",
       "    </tr>\n",
       "  </tbody>\n",
       "</table>\n",
       "</div>"
      ],
      "text/plain": [
       "    name   age   note  yeni_future  bool\n",
       "0   tasd  67.0   45.0            1  True\n",
       "2  rasim  67.0  657.0            3  True\n",
       "3    ali  45.0  242.0            4  True"
      ]
     },
     "execution_count": 54,
     "metadata": {},
     "output_type": "execute_result"
    }
   ],
   "source": [
    "dataframe1[dataframe1.age>20] #daha basit yöntem"
   ]
  },
  {
   "cell_type": "code",
   "execution_count": 55,
   "id": "96a873c8",
   "metadata": {},
   "outputs": [
    {
     "name": "stdout",
     "output_type": "stream",
     "text": [
      "342.4\n",
      "342.4\n"
     ]
    }
   ],
   "source": [
    "ortalama = dataframe1.note.mean() #pandas ile ortalama bulma \n",
    "print(ortalama)\n",
    "ortlama_np= np.mean(dataframe1.note) #numpy ile ortalama bulma\n",
    "print(ortlama_np)"
   ]
  },
  {
   "cell_type": "code",
   "execution_count": 56,
   "id": "fc12bc08",
   "metadata": {},
   "outputs": [
    {
     "data": {
      "text/html": [
       "<div>\n",
       "<style scoped>\n",
       "    .dataframe tbody tr th:only-of-type {\n",
       "        vertical-align: middle;\n",
       "    }\n",
       "\n",
       "    .dataframe tbody tr th {\n",
       "        vertical-align: top;\n",
       "    }\n",
       "\n",
       "    .dataframe thead th {\n",
       "        text-align: right;\n",
       "    }\n",
       "</style>\n",
       "<table border=\"1\" class=\"dataframe\">\n",
       "  <thead>\n",
       "    <tr style=\"text-align: right;\">\n",
       "      <th></th>\n",
       "      <th>name</th>\n",
       "      <th>age</th>\n",
       "      <th>note</th>\n",
       "      <th>yeni_future</th>\n",
       "      <th>bool</th>\n",
       "    </tr>\n",
       "  </thead>\n",
       "  <tbody>\n",
       "    <tr>\n",
       "      <th>0</th>\n",
       "      <td>tasd</td>\n",
       "      <td>67.0</td>\n",
       "      <td>45.0</td>\n",
       "      <td>1</td>\n",
       "      <td>True</td>\n",
       "    </tr>\n",
       "    <tr>\n",
       "      <th>1</th>\n",
       "      <td>reas</td>\n",
       "      <td>6.0</td>\n",
       "      <td>756.0</td>\n",
       "      <td>2</td>\n",
       "      <td>False</td>\n",
       "    </tr>\n",
       "    <tr>\n",
       "      <th>2</th>\n",
       "      <td>rasim</td>\n",
       "      <td>67.0</td>\n",
       "      <td>657.0</td>\n",
       "      <td>3</td>\n",
       "      <td>True</td>\n",
       "    </tr>\n",
       "    <tr>\n",
       "      <th>3</th>\n",
       "      <td>ali</td>\n",
       "      <td>45.0</td>\n",
       "      <td>242.0</td>\n",
       "      <td>4</td>\n",
       "      <td>True</td>\n",
       "    </tr>\n",
       "    <tr>\n",
       "      <th>5</th>\n",
       "      <td>can</td>\n",
       "      <td>14.0</td>\n",
       "      <td>12.0</td>\n",
       "      <td>6</td>\n",
       "      <td>False</td>\n",
       "    </tr>\n",
       "  </tbody>\n",
       "</table>\n",
       "</div>"
      ],
      "text/plain": [
       "    name   age   note  yeni_future   bool\n",
       "0   tasd  67.0   45.0            1   True\n",
       "1   reas   6.0  756.0            2  False\n",
       "2  rasim  67.0  657.0            3   True\n",
       "3    ali  45.0  242.0            4   True\n",
       "5    can  14.0   12.0            6  False"
      ]
     },
     "execution_count": 56,
     "metadata": {},
     "output_type": "execute_result"
    }
   ],
   "source": [
    "dataframe1.dropna(inplace=True) #dropna ile NaN değerleri silme \n",
    "dataframe1"
   ]
  },
  {
   "cell_type": "code",
   "execution_count": 57,
   "id": "c35b4ec7",
   "metadata": {},
   "outputs": [
    {
     "name": "stdout",
     "output_type": "stream",
     "text": [
      "342.4\n"
     ]
    },
    {
     "data": {
      "text/html": [
       "<div>\n",
       "<style scoped>\n",
       "    .dataframe tbody tr th:only-of-type {\n",
       "        vertical-align: middle;\n",
       "    }\n",
       "\n",
       "    .dataframe tbody tr th {\n",
       "        vertical-align: top;\n",
       "    }\n",
       "\n",
       "    .dataframe thead th {\n",
       "        text-align: right;\n",
       "    }\n",
       "</style>\n",
       "<table border=\"1\" class=\"dataframe\">\n",
       "  <thead>\n",
       "    <tr style=\"text-align: right;\">\n",
       "      <th></th>\n",
       "      <th>name</th>\n",
       "      <th>age</th>\n",
       "      <th>note</th>\n",
       "      <th>yeni_future</th>\n",
       "      <th>bool</th>\n",
       "      <th>ortalama</th>\n",
       "    </tr>\n",
       "  </thead>\n",
       "  <tbody>\n",
       "    <tr>\n",
       "      <th>0</th>\n",
       "      <td>tasd</td>\n",
       "      <td>67.0</td>\n",
       "      <td>45.0</td>\n",
       "      <td>1</td>\n",
       "      <td>True</td>\n",
       "      <td>ortalamanın altında</td>\n",
       "    </tr>\n",
       "    <tr>\n",
       "      <th>1</th>\n",
       "      <td>reas</td>\n",
       "      <td>6.0</td>\n",
       "      <td>756.0</td>\n",
       "      <td>2</td>\n",
       "      <td>False</td>\n",
       "      <td>ortalamanın üstünde</td>\n",
       "    </tr>\n",
       "    <tr>\n",
       "      <th>2</th>\n",
       "      <td>rasim</td>\n",
       "      <td>67.0</td>\n",
       "      <td>657.0</td>\n",
       "      <td>3</td>\n",
       "      <td>True</td>\n",
       "      <td>ortalamanın üstünde</td>\n",
       "    </tr>\n",
       "    <tr>\n",
       "      <th>3</th>\n",
       "      <td>ali</td>\n",
       "      <td>45.0</td>\n",
       "      <td>242.0</td>\n",
       "      <td>4</td>\n",
       "      <td>True</td>\n",
       "      <td>ortalamanın altında</td>\n",
       "    </tr>\n",
       "    <tr>\n",
       "      <th>5</th>\n",
       "      <td>can</td>\n",
       "      <td>14.0</td>\n",
       "      <td>12.0</td>\n",
       "      <td>6</td>\n",
       "      <td>False</td>\n",
       "      <td>ortalamanın altında</td>\n",
       "    </tr>\n",
       "  </tbody>\n",
       "</table>\n",
       "</div>"
      ],
      "text/plain": [
       "    name   age   note  yeni_future   bool             ortalama\n",
       "0   tasd  67.0   45.0            1   True  ortalamanın altında\n",
       "1   reas   6.0  756.0            2  False  ortalamanın üstünde\n",
       "2  rasim  67.0  657.0            3   True  ortalamanın üstünde\n",
       "3    ali  45.0  242.0            4   True  ortalamanın altında\n",
       "5    can  14.0   12.0            6  False  ortalamanın altında"
      ]
     },
     "execution_count": 57,
     "metadata": {},
     "output_type": "execute_result"
    }
   ],
   "source": [
    "print(dataframe1.note.mean()) #ortalama not hesabı\n",
    "#ortalamaya bakarak üstünde vya altında olduğunu yazdırma\n",
    "dataframe1[\"ortalama\"]= [\"ortalamanın altında\" if dataframe1.note.mean()>each else \"ortalamanın üstünde\" for each in dataframe1.note]\n",
    "dataframe1\n"
   ]
  },
  {
   "cell_type": "code",
   "execution_count": 59,
   "id": "7b7722e5",
   "metadata": {},
   "outputs": [
    {
     "data": {
      "text/html": [
       "<div>\n",
       "<style scoped>\n",
       "    .dataframe tbody tr th:only-of-type {\n",
       "        vertical-align: middle;\n",
       "    }\n",
       "\n",
       "    .dataframe tbody tr th {\n",
       "        vertical-align: top;\n",
       "    }\n",
       "\n",
       "    .dataframe thead th {\n",
       "        text-align: right;\n",
       "    }\n",
       "</style>\n",
       "<table border=\"1\" class=\"dataframe\">\n",
       "  <thead>\n",
       "    <tr style=\"text-align: right;\">\n",
       "      <th></th>\n",
       "      <th>name</th>\n",
       "      <th>age</th>\n",
       "      <th>note</th>\n",
       "      <th>yeni_future</th>\n",
       "      <th>bool</th>\n",
       "      <th>ortalama</th>\n",
       "      <th>buyuk_yas</th>\n",
       "    </tr>\n",
       "  </thead>\n",
       "  <tbody>\n",
       "    <tr>\n",
       "      <th>0</th>\n",
       "      <td>tasd</td>\n",
       "      <td>67.0</td>\n",
       "      <td>45.0</td>\n",
       "      <td>1</td>\n",
       "      <td>True</td>\n",
       "      <td>ortalamanın altında</td>\n",
       "      <td>134.0</td>\n",
       "    </tr>\n",
       "    <tr>\n",
       "      <th>1</th>\n",
       "      <td>reas</td>\n",
       "      <td>6.0</td>\n",
       "      <td>756.0</td>\n",
       "      <td>2</td>\n",
       "      <td>False</td>\n",
       "      <td>ortalamanın üstünde</td>\n",
       "      <td>12.0</td>\n",
       "    </tr>\n",
       "    <tr>\n",
       "      <th>2</th>\n",
       "      <td>rasim</td>\n",
       "      <td>67.0</td>\n",
       "      <td>657.0</td>\n",
       "      <td>3</td>\n",
       "      <td>True</td>\n",
       "      <td>ortalamanın üstünde</td>\n",
       "      <td>134.0</td>\n",
       "    </tr>\n",
       "    <tr>\n",
       "      <th>3</th>\n",
       "      <td>ali</td>\n",
       "      <td>45.0</td>\n",
       "      <td>242.0</td>\n",
       "      <td>4</td>\n",
       "      <td>True</td>\n",
       "      <td>ortalamanın altında</td>\n",
       "      <td>90.0</td>\n",
       "    </tr>\n",
       "    <tr>\n",
       "      <th>5</th>\n",
       "      <td>can</td>\n",
       "      <td>14.0</td>\n",
       "      <td>12.0</td>\n",
       "      <td>6</td>\n",
       "      <td>False</td>\n",
       "      <td>ortalamanın altında</td>\n",
       "      <td>28.0</td>\n",
       "    </tr>\n",
       "  </tbody>\n",
       "</table>\n",
       "</div>"
      ],
      "text/plain": [
       "    name   age   note  yeni_future   bool             ortalama  buyuk_yas\n",
       "0   tasd  67.0   45.0            1   True  ortalamanın altında      134.0\n",
       "1   reas   6.0  756.0            2  False  ortalamanın üstünde       12.0\n",
       "2  rasim  67.0  657.0            3   True  ortalamanın üstünde      134.0\n",
       "3    ali  45.0  242.0            4   True  ortalamanın altında       90.0\n",
       "5    can  14.0   12.0            6  False  ortalamanın altında       28.0"
      ]
     },
     "execution_count": 59,
     "metadata": {},
     "output_type": "execute_result"
    }
   ],
   "source": [
    "dataframe1[\"buyuk_yas\"] = [each*2 for each in dataframe1.age]\n",
    "dataframe1 #ortlamadan büyük olanları yazma"
   ]
  },
  {
   "cell_type": "code",
   "execution_count": 60,
   "id": "830072f0",
   "metadata": {},
   "outputs": [
    {
     "data": {
      "image/png": "[encoded data removed]",
      "text/plain": [
       "<Figure size 432x288 with 1 Axes>"
      ]
     },
     "metadata": {
      "needs_background": "light"
     },
     "output_type": "display_data"
    }
   ],
   "source": [
    "#mathplotlib ile görsel olarak gösterme \n",
    "import matplotlib.pyplot as plt \n",
    "import numpy as np\n",
    "\n",
    "\n",
    "x = np.arange(0, 20, 0.1)\n",
    "y = np.sin(x)\n",
    "\n",
    "plt.plot(x, y)\n",
    "\n",
    "plt.title(\"Sinüs Grafiği\")\n",
    "plt.xlabel(\"X \")\n",
    "plt.ylabel(\"Y \")\n",
    "\n",
    "plt.show()"
   ]
  },
  {
   "cell_type": "code",
   "execution_count": 61,
   "id": "85f7b584",
   "metadata": {},
   "outputs": [
    {
     "data": {
      "image/png": "[encoded data removed]",
      "text/plain": [
       "<Figure size 432x288 with 1 Axes>"
      ]
     },
     "metadata": {
      "needs_background": "light"
     },
     "output_type": "display_data"
    }
   ],
   "source": [
    "#point chart\n",
    "x = np.random.rand(10)\n",
    "y = np.random.rand(10)\n",
    "colors = np.random.rand(10)\n",
    "sizes = np.random.randint(10, 150, 10)\n",
    "\n",
    "plt.scatter(x, y, c=colors, s=sizes)\n",
    "\n",
    "\n",
    "plt.title(\"Point Chart\")\n",
    "plt.xlabel(\"X-axis\")\n",
    "plt.ylabel(\"Y-axis\")\n",
    "\n",
    "\n",
    "plt.show()"
   ]
  },
  {
   "cell_type": "code",
   "execution_count": 62,
   "id": "b6885b24",
   "metadata": {},
   "outputs": [
    {
     "data": {
      "image/png": "[encoded data removed]",
      "text/plain": [
       "<Figure size 432x288 with 1 Axes>"
      ]
     },
     "metadata": {
      "needs_background": "light"
     },
     "output_type": "display_data"
    }
   ],
   "source": [
    "# histogram\n",
    "data = np.random.randn(1000)\n",
    "\n",
    "plt.hist(data, bins=30)\n",
    "\n",
    "plt.title(\"Histogram\")\n",
    "plt.xlabel(\"Values\")\n",
    "plt.ylabel(\"Frequency\")\n",
    "\n",
    "plt.show()"
   ]
  },
  {
   "cell_type": "code",
   "execution_count": 64,
   "id": "cd153882",
   "metadata": {},
   "outputs": [
    {
     "data": {
      "image/png": "[encoded data removed]",
      "text/plain": [
       "<Figure size 432x288 with 1 Axes>"
      ]
     },
     "metadata": {
      "needs_background": "light"
     },
     "output_type": "display_data"
    }
   ],
   "source": [
    "#columb char\n",
    "x = ['x', 'y', 'z', 'q', 't']\n",
    "y = np.random.randint(1, 10, 5)\n",
    "\n",
    "\n",
    "plt.bar(x, y)\n",
    "\n",
    "\n",
    "plt.title(\"Column Chart\")\n",
    "plt.xlabel(\"Categories\")\n",
    "plt.ylabel(\"Values\")\n",
    "\n",
    "\n",
    "plt.show()"
   ]
  },
  {
   "cell_type": "code",
   "execution_count": 65,
   "id": "81a10ec8",
   "metadata": {},
   "outputs": [
    {
     "data": {
      "image/png": "[encoded data removed]",
      "text/plain": [
       "<Figure size 432x288 with 1 Axes>"
      ]
     },
     "metadata": {},
     "output_type": "display_data"
    }
   ],
   "source": [
    "# graph\n",
    "sizes = [5, 45, 5, 21, 45, 5]\n",
    "\n",
    "\n",
    "plt.pie(sizes)\n",
    "\n",
    "\n",
    "plt.title(\"Pie Chart\")\n",
    "\n",
    "\n",
    "plt.show()"
   ]
  },
  {
   "cell_type": "code",
   "execution_count": 68,
   "id": "f6b0e43f",
   "metadata": {},
   "outputs": [
    {
     "data": {
      "image/png": "[encoded data removed]",
      "text/plain": [
       "<Figure size 432x288 with 1 Axes>"
      ]
     },
     "metadata": {
      "needs_background": "light"
     },
     "output_type": "display_data"
    }
   ],
   "source": [
    "from mpl_toolkits.mplot3d import Axes3D\n",
    "\n",
    "# Data\n",
    "x = np.arange(-1, 4, 0.25)\n",
    "y = np.arange(-1, 4, 0.25)\n",
    "x, y = np.meshgrid(x, y)\n",
    "r = np.sqrt(x**2 + y**2)\n",
    "z = np.sin(r)\n",
    "\n",
    "# 3D graphics creation\n",
    "fig = plt.figure()\n",
    "ax = fig.add_subplot(111, projection='3d')\n",
    "\n",
    "# plotting graphics\n",
    "ax.plot_surface(x, y, z)\n",
    "\n",
    "\n",
    "ax.set_title(\"3D Graphics\")\n",
    "ax.set_xlabel(\"X axis\")\n",
    "ax.set_ylabel(\"Y axis\")\n",
    "ax.set_zlabel(\"Z axis\")\n",
    "\n",
    "# Show\n",
    "plt.show()"
   ]
  },
  {
   "cell_type": "code",
   "execution_count": null,
   "id": "a71258d8",
   "metadata": {},
   "outputs": [],
   "source": []
  }
 ],
 "metadata": {
  "kernelspec": {
   "display_name": "Python 3 (ipykernel)",
   "language": "python",
   "name": "python3"
  },
  "language_info": {
   "codemirror_mode": {
    "name": "ipython",
    "version": 3
   },
   "file_extension": ".py",
   "mimetype": "text/x-python",
   "name": "python",
   "nbconvert_exporter": "python",
   "pygments_lexer": "ipython3",
   "version": "3.9.12"
  }
 },
 "nbformat": 4,
 "nbformat_minor": 5
}
